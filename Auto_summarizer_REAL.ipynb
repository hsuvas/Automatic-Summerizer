{
 "cells": [
  {
   "cell_type": "code",
   "execution_count": 19,
   "metadata": {},
   "outputs": [],
   "source": [
    "import re\n",
    "from nltk.corpus import stopwords\n",
    "from nltk.stem import PorterStemmer\n",
    "from nltk.tokenize import word_tokenize,sent_tokenize"
   ]
  },
  {
   "cell_type": "code",
   "execution_count": 37,
   "metadata": {},
   "outputs": [],
   "source": [
    "def _create_frequency_table(text_string) -> dict:\n",
    "    re.sub(r'[^A-Za-z0-9]+', '', text_string)\n",
    "    stopWords = set(stopwords.words(\"english\"))\n",
    "    words = word_tokenize(text_string)\n",
    "    ps = PorterStemmer()\n",
    "    freqTable = dict()\n",
    "    for word in words:\n",
    "        word = ps.stem(word)\n",
    "        if word not in stopWords:\n",
    "            if word in freqTable:\n",
    "                freqTable[word] += 1\n",
    "            else:\n",
    "                freqTable[word] = 1\n",
    "    return freqTable"
   ]
  },
  {
   "cell_type": "code",
   "execution_count": 21,
   "metadata": {},
   "outputs": [],
   "source": [
    "def _score_sentences(sentences, freqTable) -> dict:\n",
    "    sentenceValue = dict()\n",
    "\n",
    "    for sent in sentences:\n",
    "        word_count_in_sentence = (len(word_tokenize(sent)))\n",
    "        for wordValue in freqTable:\n",
    "            if wordValue in sent.lower():\n",
    "                if sent in sentenceValue:\n",
    "                    sentenceValue[sent] += freqTable[wordValue]\n",
    "                else:\n",
    "                    sentenceValue[sent] = freqTable[wordValue]\n",
    "\n",
    "        #sentenceValue[sent] = sentenceValue[sent] // word_count_in_sentence\n",
    "       \n",
    "    return sentenceValue"
   ]
  },
  {
   "cell_type": "code",
   "execution_count": 22,
   "metadata": {},
   "outputs": [],
   "source": [
    "def _find_avg_score(sent,sentVal,n)->dict:\n",
    "    result = {}\n",
    "    for key in sorted(sentVal, key=sentVal.get, reverse=True)[:n]:\n",
    "        result.update({key: sentVal[key]})\n",
    "    return result"
   ]
  },
  {
   "cell_type": "code",
   "execution_count": 33,
   "metadata": {},
   "outputs": [],
   "source": [
    "def _gen_summary(sentences,summ,n):\n",
    "    summary=''\n",
    "    sentence_count=0\n",
    "    for sentence in sentences:\n",
    "        if sentence in summ:\n",
    "            summary+=\" \"+sentence\n",
    "            sentence_count+=1\n",
    "    if sentence_count>=n:\n",
    "        return summary"
   ]
  },
  {
   "cell_type": "code",
   "execution_count": 40,
   "metadata": {},
   "outputs": [
    {
     "name": "stdout",
     "output_type": "stream",
     "text": [
      "in how many sentences do you want the summary?10\n",
      " In many cases it was not clear whether or not a small tank was associated with a heating system , whereby reconciliations are not required . In many cases it was not clear whether or not a small tank was associated with a heating system , whereby reconciliations are not required . Requests received after the end of the regular registration period , and approved , will be charged an administration fee ( see Fees and Charges ) . Requests received after the end of the regular registration period , and approved , will be charged an administration fee ( see Fees and Charges ) . A student who has successfully completed graduate courses as part of one graduate program at Memorial University of Newfoundland , and who is subsequently admitted to another program , may apply to transfer appropriate courses to the current program , provided such courses have not been used to satisfy other degree requirements . A student who has successfully completed graduate courses at another institution recognized by Senate may , on admission to a graduate program at Memorial University of Newfoundland , apply to transfer appropriate courses to the current program , provided such courses have not been used to satisfy other degree requirements . , 2 . , 2 . Letters of appeal should be directed to the Chair of the Appeals Committee , c/o School of Graduate Studies . Letters of appeal should be directed to the Chair of the Appeals Committee , c/o School of Graduate Studies . All members of the Committee including the Chairperson , but excluding the Dean of Graduate Studies , shall be voting members . All members of the Committee including the Chairperson , but excluding the Dean of Graduate Studies , shall be voting members . Examiners shall normally be those who have completed a graduate degree at the doctoral level , including a thesis , in the discipline or cognate area . Examiners shall normally be those who have completed a graduate degree at the doctoral level , including a thesis , in the discipline or cognate area . In the event that this offence is discovered after the granting of a degree , the Academic Council of the School of Graduate Studies may recommend to the Senate that the student 's admission be rescinded and that the degree ( s ) granted to the student be revoked . The foregoing notwithstanding the University reserves the right to require students to discontinue their program or to deny them admission where , in the opinion of the Academic Council of the School of Graduate Studies , following appropriate professional consultation , there is a reasonable likelihood that a student 's health or conduct could result in endangering the lives , health or safety of other persons on campus or in settings related to the student 's university studies .\n"
     ]
    }
   ],
   "source": [
    "f=open(\"F:\\\\1A_en_UMBC_tokenized(1)\\\\UMBC_tokenized.txt\",encoding=\"Latin-1\")\n",
    "text=f.read(100000)\n",
    "\n",
    "freq_table =  _create_frequency_table(text)\n",
    "sentences=sent_tokenize(text)\n",
    "n=int(input(\"in how many sentences do you want the summary?\"))\n",
    "sent=sentences[:n]\n",
    "sent_score=_score_sentences(sentences, freq_table)\n",
    "\n",
    "summ=_find_avg_score(sent,sent_score,n)\n",
    "\n",
    "summary=_gen_summary(sentences,summ,n)\n",
    "print(summary)\n"
   ]
  }
 ],
 "metadata": {
  "kernelspec": {
   "display_name": "Python 3",
   "language": "python",
   "name": "python3"
  },
  "language_info": {
   "codemirror_mode": {
    "name": "ipython",
    "version": 3
   },
   "file_extension": ".py",
   "mimetype": "text/x-python",
   "name": "python",
   "nbconvert_exporter": "python",
   "pygments_lexer": "ipython3",
   "version": "3.7.3"
  }
 },
 "nbformat": 4,
 "nbformat_minor": 2
}
