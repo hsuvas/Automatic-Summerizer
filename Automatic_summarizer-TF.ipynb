{
 "cells": [
  {
   "cell_type": "code",
   "execution_count": 2,
   "metadata": {},
   "outputs": [],
   "source": [
    "import re\n",
    "from nltk.corpus import stopwords\n",
    "from nltk.tokenize import word_tokenize,sent_tokenize"
   ]
  },
  {
   "cell_type": "code",
   "execution_count": 3,
   "metadata": {},
   "outputs": [],
   "source": [
    "def preprocess(t):\n",
    "    stopWords = set(stopwords.words(\"english\"))\n",
    "    words = word_tokenize(t) #word tokenization\n",
    "    fl=[]\n",
    "    for word in words:\n",
    "        if word in stopWords:\n",
    "            continue\n",
    "        else:\n",
    "            fl.append(word)\n",
    "    return fl\n",
    "            "
   ]
  },
  {
   "cell_type": "code",
   "execution_count": 1,
   "metadata": {},
   "outputs": [],
   "source": [
    "def _create_freq_table(text_string):\n",
    "    freqTable=dict.fromkeys(text_string,0)\n",
    "    for word in text_string:\n",
    "        freqTable[word]+=1\n",
    "    tfDict = {}\n",
    "    word_Count = len(text_string)\n",
    "    for word, count in freqTable.items():\n",
    "        tfDict[word] = count/float(word_Count)\n",
    "    \n",
    "    return tfDict"
   ]
  },
  {
   "cell_type": "code",
   "execution_count": 4,
   "metadata": {},
   "outputs": [],
   "source": [
    "def _score_sentences(sentences, freqTable) -> dict:\n",
    "    sentenceValue = dict()\n",
    "\n",
    "    for sent in sentences:\n",
    "        for wordValue in freqTable:\n",
    "            if wordValue in sent.lower(): \n",
    "                if sent in sentenceValue:\n",
    "                    sentenceValue[sent] += freqTable[wordValue]  #calculating sentence score\n",
    "                else:\n",
    "                    sentenceValue[sent] = freqTable[wordValue] \n",
    "    return sentenceValue"
   ]
  },
  {
   "cell_type": "code",
   "execution_count": 5,
   "metadata": {},
   "outputs": [],
   "source": [
    "def _find_high_score(sent,sentVal,n)->dict:\n",
    "    result = dict()\n",
    "    for key in sorted(sentVal, key=sentVal.get, reverse=True)[:n]:\n",
    "        result.update({key: sentVal[key]}) #finding the sentences with high scores\n",
    "    return result"
   ]
  },
  {
   "cell_type": "code",
   "execution_count": 6,
   "metadata": {},
   "outputs": [],
   "source": [
    "def _gen_summary(sentences,summ,n):\n",
    "    summary=''\n",
    "    sentence_count=0\n",
    "    for sentence in sentences:\n",
    "            if sentence in summ and sentence not in summary and sentence_count<=n:\n",
    "                summary+=\" \"+sentence   #generating summary\n",
    "                sentence_count+=1\n",
    "    return summary"
   ]
  },
  {
   "cell_type": "code",
   "execution_count": 8,
   "metadata": {
    "scrolled": true
   },
   "outputs": [
    {
     "name": "stdout",
     "output_type": "stream",
     "text": [
      "in how many sentences do you want the summary?60\n",
      " . Requests received after the end of the regular registration period , and approved , will be charged an administration fee ( see Fees and Charges ) . All members of the Committee including the Chairperson , but excluding the Dean of Graduate Studies , shall be voting members . Examiners shall normally be those who have completed a graduate degree at the doctoral level , including a thesis , in the discipline or cognate area . The work referred to includes examinations , theses , assignments , work term reports , projects , internship reports , or any other tests which are to be used in judging the student 's performance in a course or program of study , or on any special tests which the University may offer . Admission is limited and competitive . The Academic Director and the Executive Director OGDP will be ex officio members of the Advisory Board , and will recommend the appointment of the Advisory Board members to the Dean of Graduate Studies , who will also be an ex officio member of the Advisory Board . degree . program . The M.A. In addition to the general requirements , candidates will be expected to have acquired a superior knowledge of the spoken and written language and may , depending on their academic background and field of specialization , be asked to take advanced undergraduate courses . , and the entire program of study and research will normally be of two-years ' duration . ( Honours ) degree , or equivalent , with a strong computational orientation . thesis which involved scientific computing would generally be acceptable , as would work experience which involved computing in a scientific environment . Satisfactory performance in this phase of the program will lead to confirmation of acceptance into the co-op option , and allow the student to spend two of the next three terms working in industrial or government settings . Upon completion of each work term , the student must submit an acceptable work report . Depending on background and/or area of specialization , a candidate also may be required to complete additional courses in earth sciences or related subjects . However , depending on the student 's background and area of specialization , more or fewer graduate and/or undergraduate courses may be required . The Chairperson of the Supervisory Committee will inform the candidate within one month of its acceptance , rejection , or acceptance with recommended changes . Once the topic is approved , a more detailed thesis proposal must be presented to the Department in both written and oral format , and must receive formal departmental approval prior to the writing of the thesis . It may be awarded only once , during the last year of a student 's graduate programme . Applications are available from , and should be submitted to , the Faculty of Business Administration . For further information , contact the School of Graduate Studies . Dr. . The award is based on high academic achievements ( all â A 's or very nearly so ) , personal qualities and demonstrated aptitudes . Memorial University is permitted to send only two nominations , one from the natural sciences category and one from the engineering and computer science category . Students , who are currently registered at a university , or have most recently graduated from a university , must submit their scholarship application to their home university by the deadline date . From the time of his arrival at Memorial he taught at least one graduate and undergraduate course each academic year , and supervised a total of 23 honors , masters and PhD students . . \n",
      " \" Only one nomination can be submitted per faculty , school or program . When nominating graduate students , please ensure that you adhere to the criteria and checklist , when making your selection . Memorial University is committed to employment equity and encourages applications from qualified women and men , visible minorities , aboriginal people and persons with disabilities . Faculty members and graduate students in the Department of English are invited to forward any comments or suggestions on this document to the departmental graduate coordinator , Dr. Mark Cumming ( mcumming@mun.ca ) . In appointing a supervisor , the head is likely to consider the student âs preference , the appropriateness of the supervisor for the proposed area of research , and the equitable distribution of supervisory duties among faculty members . Emphasis is placed on critical reading and writing : analysing texts , framing and using questions , constructing essays , organizing paragraphs , conducting research , quoting and documenting , revising and editing . The course will deal with the nature , history and development of short fiction by considering a variety of authors and stories . This co-op degree provides opportunities to explore their interest in the field , to develop important work/life skills , to put academic theory into practice and earn income to support their education . The Chair is expected to develop a world-class , externally funded research program focusing on technology needed to support applications in music . The research must be oriented toward innovative music applications ; areas of focus may include ( but are not limited to ) : digital audio and video processing , networked multimedia communications , human-computer interaction or acoustics . The Chair is expected to build upon existing institutional strengths and to foster collaboration with researchers involved in digital recording and documentation , as well as applications of new and emerging technologies for multi-venue performance and teaching . The award is made by the Senate Committee on Undergraduate Scholarships and Financial Aid on the recommendation of the Director , School of Music . The award will be made by the Senate Committee on Undergraduate Scholarships and Financial Aid on the recommendation of the Director , School of Music . This award is made by the Senate Committee on Undergraduate Scholarships and Financial Aid on the recommendation of the Director , School of Music . In addition to volunteer work , program participants at each level partake in activities that will enhance their career development , self-awareness , and leadership abilities . ... Graduates of the bachelor of technology , bachelor of maritime studies and the master of marine studies received their degrees at Memorial University 's convocation ceremonies on May 25 . While the decision to cancel classes or close the St. John 's campus rests ultimately with President Axel Meisen ( or his designate , should he be out of town ) advice comes from various other offices on campus , notably Facilities Management , which remains in close contact with Environment Canada as weather systems develop . To be eligible for the title professor emeritus , a person must have served at least 10 years as a regular full-time faculty member at Memorial and must have held the rank of professor upon retirement . It is also home to outstanding archival collections , including the Maritime History Archive , the Folklore and Language Archive and the Native Language Archive . Such appointments will be made to departments , which will recognize contributions to interdisciplinary programs when making such appointments . However , such an employee shall not leave the employee 's regular duties to discuss any business in respect of a grievance without first obtaining permission from the employee 's Department Head . In such a review , the full range of disciplinary actions available may be considered , including loss of network privileges for a specified period of time , dismissal from the University , and legal action . Politics is a proud and honourable profession , as I said a few moments ago , and public service is an honourable and worthwhile way to spend one 's life . The signing of this Memorandum resolved an Association Grievance that was filed in 1998 when MUNFA discovered that portions of the Travel Fund , allocated to particular units in the University , had remained unspent even though Academic Staff Members ( ASMs ) in those units had not been fully reimbursed for their travel expenses . Whether to participate actively is a matter of choice , but collective action like a strike provides benefits to everyone in the long run . While you may already have reasonable arrangements for teaching , meeting your students , with access to a telephone , a computer , and internal mail , many of your colleagues are not so fortunate . They have no office , no means for contacting students ( unless they use their home telephone and computer ) , and no means of participating in decisions that affect the course ( s ) for which they are responsible . With 175 regular faculty members in 14 academic departments and a wide variety of interdisciplinary major , minor and diploma programs , the Faculty of Arts offers breadth , depth and diversity . Counting some 2,000 registered students with declared majors , and with strong graduate programs , the Faculty is committed to providing solid teaching and research support to new appointees . Although students must decide to take Computer or Electrical Engineering prior to Term 3 , they are not required to select between Computer and Electrical Engineering until the completion of Term 4 .\n"
     ]
    }
   ],
   "source": [
    "with open(\"F:\\\\1A_en_UMBC_tokenized(1)\\\\UMBC_tokenized.txt\",encoding=\"Latin-1\") as myfile:  #change the path of the file as in local system\n",
    "    t= [next(myfile) for x in range(20000)]\n",
    "text=' '.join([str(elem) for elem in t])\n",
    "txt=preprocess(text)\n",
    "freq_table=_create_freq_table(txt)\n",
    "sentences=sent_tokenize(text)\n",
    "\n",
    "sent_score=_score_sentences(sentences, freq_table)\n",
    "\n",
    "n=int(input(\"in how many sentences do you want the summary?\"))\n",
    "summ=_find_high_score(sentences,sent_score,n)\n",
    "\n",
    "summary=_gen_summary(sentences,summ,n)\n",
    "print(summary)\n"
   ]
  }
 ],
 "metadata": {
  "kernelspec": {
   "display_name": "Python 3",
   "language": "python",
   "name": "python3"
  },
  "language_info": {
   "codemirror_mode": {
    "name": "ipython",
    "version": 3
   },
   "file_extension": ".py",
   "mimetype": "text/x-python",
   "name": "python",
   "nbconvert_exporter": "python",
   "pygments_lexer": "ipython3",
   "version": "3.7.3"
  }
 },
 "nbformat": 4,
 "nbformat_minor": 2
}
